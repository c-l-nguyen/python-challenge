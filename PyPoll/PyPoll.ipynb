{
 "cells": [
  {
   "cell_type": "code",
   "execution_count": 1,
   "metadata": {},
   "outputs": [],
   "source": [
    "import csv, os"
   ]
  },
  {
   "cell_type": "code",
   "execution_count": 2,
   "metadata": {},
   "outputs": [
    {
     "data": {
      "text/plain": [
       "'Resources/election_data.csv'"
      ]
     },
     "execution_count": 2,
     "metadata": {},
     "output_type": "execute_result"
    }
   ],
   "source": [
    "election_csv = os.path.join(\"Resources\", \"election_data.csv\")\n",
    "election_csv"
   ]
  },
  {
   "cell_type": "code",
   "execution_count": 3,
   "metadata": {},
   "outputs": [
    {
     "data": {
      "text/plain": [
       "['Voter ID', 'County', 'Candidate']"
      ]
     },
     "execution_count": 3,
     "metadata": {},
     "output_type": "execute_result"
    }
   ],
   "source": [
    "fields = \"Voter ID,County,Candidate\"\n",
    "fields = fields.split(\",\")\n",
    "fields"
   ]
  },
  {
   "cell_type": "code",
   "execution_count": 5,
   "metadata": {},
   "outputs": [
    {
     "name": "stdout",
     "output_type": "stream",
     "text": [
      "3521001\n",
      "{'Khan': 2218231, 'Correy': 704200, 'Li': 492940, \"O'Tooley\": 105630}\n"
     ]
    }
   ],
   "source": [
    "total_votes = 0\n",
    "candidate_votes = {}\n",
    "\n",
    "with open(election_csv, 'r', newline=\"\") as csvfile:\n",
    "    csvreader = csv.DictReader(csvfile, delimiter=\",\", fieldnames = fields)\n",
    "    next(csvreader)\n",
    "    for row in csvreader:\n",
    "        total_votes += 1\n",
    "        if candidate_votes.get(row[\"Candidate\"]) != None:\n",
    "            candidate_votes[row[\"Candidate\"]] += 1\n",
    "        else:\n",
    "            candidate_votes[row[\"Candidate\"]] = 1\n",
    "print(total_votes)\n",
    "print(candidate_votes)"
   ]
  },
  {
   "cell_type": "code",
   "execution_count": 5,
   "metadata": {},
   "outputs": [
    {
     "data": {
      "text/plain": [
       "{'Khan': 63, 'Correy': 20, 'Li': 14, \"O'Tooley\": 3}"
      ]
     },
     "execution_count": 5,
     "metadata": {},
     "output_type": "execute_result"
    }
   ],
   "source": [
    "candidate_percentages = {}\n",
    "for key, value in candidate_votes.items():\n",
    "    candidate_percentages[key] = round(candidate_votes[key]/total_votes * 100)\n",
    "candidate_percentages"
   ]
  },
  {
   "cell_type": "code",
   "execution_count": 6,
   "metadata": {},
   "outputs": [],
   "source": [
    "winner = max(candidate_percentages, key=candidate_percentages.get)"
   ]
  },
  {
   "cell_type": "code",
   "execution_count": 7,
   "metadata": {},
   "outputs": [
    {
     "name": "stdout",
     "output_type": "stream",
     "text": [
      "Election Results\n",
      "-------------------------\n",
      "Total Votes: 3521001\n",
      "-------------------------\n",
      "Khan: 63.000% (2218231)\n",
      "Correy: 20.000% (704200)\n",
      "Li: 14.000% (492940)\n",
      "O'Tooley: 3.000% (105630)\n",
      "-------------------------\n",
      "Winner: Khan\n",
      "-------------------------\n"
     ]
    }
   ],
   "source": [
    "print(\"Election Results\")\n",
    "print(\"-------------------------\")\n",
    "print(f\"Total Votes: {total_votes}\")\n",
    "print(\"-------------------------\")\n",
    "for candidate in candidate_votes.keys():\n",
    "    print(f\"{candidate}: {candidate_percentages[candidate]:.3f}% ({candidate_votes[candidate]})\")\n",
    "print(\"-------------------------\")\n",
    "print(f\"Winner: {winner}\")\n",
    "print(\"-------------------------\")"
   ]
  },
  {
   "cell_type": "code",
   "execution_count": 9,
   "metadata": {},
   "outputs": [],
   "source": [
    "with open(output_csv, \"w\", newline=\"\") as writefile:\n",
    "    writer = csv.writer(writefile)\n",
    "    writer.writerow([\"Election Results\"])\n",
    "    writer.writerow([\"-------------------------\"])\n",
    "    writer.writerow([f\"Total Votes: {total_votes}\"])\n",
    "    writer.writerow([\"-------------------------\"])\n",
    "    for candidate in candidate_votes.keys():\n",
    "        writer.writerow([f\"{candidate}: {candidate_percentages[candidate]:.3f}% ({candidate_votes[candidate]})\"])\n",
    "    writer.writerow([\"-------------------------\"])\n",
    "    writer.writerow([f\"Winner: {winner}\"])\n",
    "    writer.writerow([\"-------------------------\"])"
   ]
  },
  {
   "cell_type": "code",
   "execution_count": null,
   "metadata": {},
   "outputs": [],
   "source": []
  }
 ],
 "metadata": {
  "kernelspec": {
   "display_name": "Conda [PythonData]",
   "language": "python",
   "name": "pythondata"
  },
  "language_info": {
   "codemirror_mode": {
    "name": "ipython",
    "version": 3
   },
   "file_extension": ".py",
   "mimetype": "text/x-python",
   "name": "python",
   "nbconvert_exporter": "python",
   "pygments_lexer": "ipython3",
   "version": "3.6.8"
  }
 },
 "nbformat": 4,
 "nbformat_minor": 2
}
