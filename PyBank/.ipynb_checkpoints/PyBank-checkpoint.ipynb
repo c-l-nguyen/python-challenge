{
 "cells": [
  {
   "cell_type": "code",
   "execution_count": 1,
   "metadata": {},
   "outputs": [],
   "source": [
    "import csv, os"
   ]
  },
  {
   "cell_type": "code",
   "execution_count": 2,
   "metadata": {},
   "outputs": [
    {
     "data": {
      "text/plain": [
       "'Resources/budget_data.csv'"
      ]
     },
     "execution_count": 2,
     "metadata": {},
     "output_type": "execute_result"
    }
   ],
   "source": [
    "budget_csv = os.path.join(\"Resources\", \"budget_data.csv\")\n",
    "budget_csv"
   ]
  },
  {
   "cell_type": "code",
   "execution_count": 3,
   "metadata": {},
   "outputs": [],
   "source": [
    "num_month = 0\n",
    "total_amount = 0\n",
    "months_list = []\n",
    "profit_loss_list = []\n",
    "\n",
    "with open(budget_csv, newline=\"\") as csvfile:\n",
    "    csvreader = csv.reader(csvfile, delimiter=\",\")\n",
    "    next(csvreader)\n",
    "    for row in csvreader:\n",
    "        num_month +=1\n",
    "        total_amount += int(row[1])\n",
    "        profit_loss_list.append(int(row[1]))\n",
    "        months_list.append(row[0])\n",
    "\n",
    "difference = []\n",
    "for i in range(num_month-1):\n",
    "    difference.append(profit_loss_list[i+1]-profit_loss_list[i])\n",
    "average_change = sum(difference) / (num_month-1)"
   ]
  },
  {
   "cell_type": "code",
   "execution_count": 4,
   "metadata": {
    "scrolled": true
   },
   "outputs": [],
   "source": [
    "max_increase_index = difference.index(max(difference))\n",
    "max_decrease_index = difference.index(min(difference))"
   ]
  },
  {
   "cell_type": "code",
   "execution_count": 5,
   "metadata": {},
   "outputs": [
    {
     "data": {
      "text/plain": [
       "'Feb-12'"
      ]
     },
     "execution_count": 5,
     "metadata": {},
     "output_type": "execute_result"
    }
   ],
   "source": [
    "months_list[max_increase_index+1]"
   ]
  },
  {
   "cell_type": "code",
   "execution_count": 6,
   "metadata": {},
   "outputs": [
    {
     "data": {
      "text/plain": [
       "1926159"
      ]
     },
     "execution_count": 6,
     "metadata": {},
     "output_type": "execute_result"
    }
   ],
   "source": [
    "difference[max_increase_index]"
   ]
  },
  {
   "cell_type": "code",
   "execution_count": 7,
   "metadata": {},
   "outputs": [
    {
     "data": {
      "text/plain": [
       "'Sep-13'"
      ]
     },
     "execution_count": 7,
     "metadata": {},
     "output_type": "execute_result"
    }
   ],
   "source": [
    "months_list[max_decrease_index+1]"
   ]
  },
  {
   "cell_type": "code",
   "execution_count": 8,
   "metadata": {},
   "outputs": [
    {
     "data": {
      "text/plain": [
       "-2196167"
      ]
     },
     "execution_count": 8,
     "metadata": {},
     "output_type": "execute_result"
    }
   ],
   "source": [
    "difference[max_decrease_index]"
   ]
  },
  {
   "cell_type": "code",
   "execution_count": 9,
   "metadata": {},
   "outputs": [],
   "source": [
    "average_change_formatted = round(average_change,2)\n",
    "greatest_profit_increase = difference[max_increase_index]\n",
    "greatest_profit_decrease = difference[max_decrease_index]\n",
    "greatest_profit_increase_month = months_list[max_increase_index+1]\n",
    "greatest_profit_decrease_month = months_list[max_decrease_index+1]"
   ]
  },
  {
   "cell_type": "code",
   "execution_count": 10,
   "metadata": {},
   "outputs": [
    {
     "name": "stdout",
     "output_type": "stream",
     "text": [
      "Financial Analysis\n",
      "----------------------------\n",
      "Total Months: 86\n",
      "Total: $38382578\n",
      "Average Change: $-2315.12\n",
      "Greatest Increase in Profits: Feb-12 ($1926159)\n",
      "Greatest Decrease in Profits: Sep-13 ($-2196167)\n"
     ]
    }
   ],
   "source": [
    "print(\"Financial Analysis\")\n",
    "print(\"----------------------------\")\n",
    "print(f\"Total Months: {num_month}\")\n",
    "print(f\"Total: ${total_amount}\")\n",
    "print(f\"Average Change: ${average_change_formatted}\")\n",
    "print(f\"Greatest Increase in Profits: {greatest_profit_increase_month} (${greatest_profit_increase})\")\n",
    "print(f\"Greatest Decrease in Profits: {greatest_profit_decrease_month} (${greatest_profit_decrease})\")"
   ]
  },
  {
   "cell_type": "code",
   "execution_count": 14,
   "metadata": {},
   "outputs": [],
   "source": [
    "output_csv = os.path.join(\"Resources\", \"output.csv\")\n",
    "with open(output_csv, \"w\", newline=\"\") as writefile:\n",
    "    writer = csv.writer(writefile)\n",
    "\n",
    "    writer.writerow([\"Financial Analysis\"])\n",
    "    writer.writerow([\"----------------------------\"])\n",
    "    writer.writerow([f\"Total Months: {num_month}\"])\n",
    "    writer.writerow([f\"Total: ${total_amount}\"])\n",
    "    writer.writerow([f\"Average Change: ${average_change_formatted}\"])\n",
    "    writer.writerow([f\"Greatest Increase in Profits: {greatest_profit_increase_month} (${greatest_profit_increase})\"])\n",
    "    writer.writerow([f\"Greatest Decrease in Profits: {greatest_profit_decrease_month} (${greatest_profit_decrease})\"])\n"
   ]
  },
  {
   "cell_type": "code",
   "execution_count": null,
   "metadata": {},
   "outputs": [],
   "source": []
  }
 ],
 "metadata": {
  "kernelspec": {
   "display_name": "Conda [PythonData]",
   "language": "python",
   "name": "pythondata"
  },
  "language_info": {
   "codemirror_mode": {
    "name": "ipython",
    "version": 3
   },
   "file_extension": ".py",
   "mimetype": "text/x-python",
   "name": "python",
   "nbconvert_exporter": "python",
   "pygments_lexer": "ipython3",
   "version": "3.6.8"
  }
 },
 "nbformat": 4,
 "nbformat_minor": 2
}
